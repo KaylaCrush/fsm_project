{
 "cells": [
  {
   "cell_type": "code",
   "execution_count": null,
   "metadata": {},
   "outputs": [
    {
     "data": {
      "text/plain": [
       "True"
      ]
     },
     "execution_count": 2,
     "metadata": {},
     "output_type": "execute_result"
    }
   ],
   "source": [
    "# implements a deterministic finite state machine for (a+b)c*\n",
    "def dfa(string):\n",
    "    if string[0] not in ('a','b'):\n",
    "        return False\n",
    "    for char in string[1:]:\n",
    "        if char != 'c':\n",
    "            return False\n",
    "    return True\n",
    "\n",
    "# implements a nondeterministic finite state machine for (a|b)*abb\n",
    "def nfa(string):\n",
    "    if string[-3:] != 'abb':\n",
    "        return False\n",
    "    for char in string[:-3]:\n",
    "        if char not in ('a','b'):\n",
    "            return False\n",
    "    return True"
   ]
  },
  {
   "cell_type": "code",
   "execution_count": 8,
   "metadata": {},
   "outputs": [
    {
     "name": "stdout",
     "output_type": "stream",
     "text": [
      "Tests for dfa (a+b)c*\n",
      "Test result for ac (should be true): True\n",
      "Test result for bc (should be true): True\n",
      "Test result for acc (should be true): True\n",
      "Test result for bcc (should be true): True\n",
      "Test result for accc (should be true): True\n",
      "Test result for bccc (should be true): True\n",
      "Test result for acccc (should be true): True\n",
      "\n",
      "Test result for aabb (should be false): False\n",
      "Test result for babb (should be false): False\n",
      "Test result for aaabb (should be false): False\n",
      "Test result for bbabb (should be false): False\n",
      "Test result for ababb (should be false): False\n",
      "Test result for abababb (should be false): False\n",
      "Test result for abbababb (should be false): False\n",
      "\n",
      "Test result for aabb (should be true): True\n",
      "Test result for babb (should be true): True\n",
      "Test result for aaabb (should be true): True\n",
      "Test result for bbabb (should be true): True\n",
      "Test result for ababb (should be true): True\n",
      "Test result for abababb (should be true): True\n",
      "Test result for abbababb (should be true): True\n",
      "\n",
      "Test result for ac (should be false): False\n",
      "Test result for bc (should be false): False\n",
      "Test result for acc (should be false): False\n",
      "Test result for bcc (should be false): False\n",
      "Test result for accc (should be false): False\n",
      "Test result for bccc (should be false): False\n",
      "Test result for acccc (should be false): False\n"
     ]
    }
   ],
   "source": [
    "#Tests\n",
    "dfa_success = ['ac','bc','acc','bcc','accc','bccc','acccc']\n",
    "nfa_success = ['aabb', 'babb','aaabb','bbabb','ababb','abababb','abbababb']\n",
    "print(f\"Tests for dfa (a+b)c*\")\n",
    "\n",
    "for test in dfa_success:\n",
    "    print(f\"Test result for {test} (should be true): {dfa(test)}\")\n",
    "print()\n",
    "for test in nfa_success:\n",
    "    print(f\"Test result for {test} (should be false): {dfa(test)}\")\n",
    "print()\n",
    "for test in nfa_success:\n",
    "    print(f\"Test result for {test} (should be true): {nfa(test)}\")\n",
    "print()\n",
    "for test in dfa_success:\n",
    "    print(f\"Test result for {test} (should be false): {nfa(test)}\")\n"
   ]
  }
 ],
 "metadata": {
  "kernelspec": {
   "display_name": "Python 3",
   "language": "python",
   "name": "python3"
  },
  "language_info": {
   "codemirror_mode": {
    "name": "ipython",
    "version": 3
   },
   "file_extension": ".py",
   "mimetype": "text/x-python",
   "name": "python",
   "nbconvert_exporter": "python",
   "pygments_lexer": "ipython3",
   "version": "3.11.7"
  }
 },
 "nbformat": 4,
 "nbformat_minor": 2
}
